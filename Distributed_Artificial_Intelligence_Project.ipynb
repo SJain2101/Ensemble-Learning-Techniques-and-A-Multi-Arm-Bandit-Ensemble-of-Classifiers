{
  "nbformat": 4,
  "nbformat_minor": 0,
  "metadata": {
    "colab": {
      "name": "Distributed Artificial Intelligence Project.ipynb",
      "provenance": [],
      "toc_visible": true
    },
    "kernelspec": {
      "name": "python3",
      "display_name": "Python 3"
    },
    "language_info": {
      "name": "python"
    },
    "accelerator": "GPU"
  },
  "cells": [
    {
      "cell_type": "markdown",
      "source": [
        "# **Declaration:**\n",
        "The code for ***adaboost, borda voting and stacked generalization*** are picked from my submissions from the previous assignments. Author of the code is **Sarthak (me)**.\n",
        "\n",
        "The code has been tweaked to deal with real data and to handle real classifiers."
      ],
      "metadata": {
        "id": "diyggLSjO61h"
      }
    },
    {
      "cell_type": "markdown",
      "source": [
        "# A composite calssifier system design: conepts and methodology\n",
        "\n",
        "Here, we partiotion the feature space into two regions which are divided between multiple classfiers. The two preferred classifiers are the linear classifiers (Logistic regression) which is the simplest classifier model and requires least computation and a classifier which requires high computation capacity. Here we prefer knn which is a non parametric classifier.\n",
        "\n",
        "The approach to divide the feature space is the following: We come up with two hyperplanes which divide the feature space. If both the hyperplanes agree to classify the training data in the same class then it is simply used to train the logistic regression classifier, if it falls in the critical region then it is used to train the knn classifier.\n",
        "\n",
        "The idea here is to reduce the actual classification/prediction time and not the learning time of the classifiers.\n",
        "\n",
        "During the prediction phase, if the data point lies in the critical phase, or if the prediction probability of the data point is less, then only it is referred to the knn classifier. Else, it is predicted by the logistic regression classifier."
      ],
      "metadata": {
        "id": "Ngst4KLDiRRm"
      }
    },
    {
      "cell_type": "markdown",
      "source": [
        "**Note:** the Orginal paper uses some optimization algorithms like SWIFT algorithm to decide the two hyperplanes to identify the critical region. However, as our variation, we will two different hyperplanes identified by LDA. So the dimensions of the feature set can be anything. However, the current apporach is restricted for binary classification, just like the illustration in the original paper. the reaon is, for binary classification LDA can identify hyperplanes.....but for multi-class classification LDA Identifies axes.\n",
        "\n",
        "BUt, if LDA works for 2-class classification, it can also be extended to multi-class classification."
      ],
      "metadata": {
        "id": "Q75TjgS9ovYV"
      }
    },
    {
      "cell_type": "markdown",
      "source": [
        "## Importing Libraries"
      ],
      "metadata": {
        "id": "54FJyEyT2nV8"
      }
    },
    {
      "cell_type": "code",
      "execution_count": 1,
      "metadata": {
        "id": "4d_p3fIYiLET"
      },
      "outputs": [],
      "source": [
        "from sklearn.discriminant_analysis import LinearDiscriminantAnalysis\n",
        "from sklearn.datasets import load_iris\n",
        "from sklearn.linear_model import LogisticRegression\n",
        "from sklearn.neighbors import KNeighborsClassifier\n",
        "from sklearn.decomposition import PCA\n",
        "from sklearn.svm import SVC\n",
        "from sklearn.naive_bayes import GaussianNB\n",
        "from sklearn.model_selection import train_test_split\n",
        "from sklearn.metrics import accuracy_score\n",
        "import numpy as np\n",
        "from numpy.random import choice \n",
        "import pandas as pd\n",
        "import random\n",
        "import math\n",
        "import time"
      ]
    },
    {
      "cell_type": "code",
      "source": [
        "np.__version__"
      ],
      "metadata": {
        "colab": {
          "base_uri": "https://localhost:8080/",
          "height": 35
        },
        "id": "ajSwVgqogrv2",
        "outputId": "9e848fb3-1cf2-4417-b310-599d541ab95a"
      },
      "execution_count": 2,
      "outputs": [
        {
          "output_type": "execute_result",
          "data": {
            "text/plain": [
              "'1.21.6'"
            ],
            "application/vnd.google.colaboratory.intrinsic+json": {
              "type": "string"
            }
          },
          "metadata": {},
          "execution_count": 2
        }
      ]
    },
    {
      "cell_type": "markdown",
      "source": [
        "## Loading and splitting the data (Will be used for futher Ensembles as well)"
      ],
      "metadata": {
        "id": "s0VGV4MW2viT"
      }
    },
    {
      "cell_type": "code",
      "source": [
        "def prepare_data():\n",
        "  data = load_iris() #load the iris data set.\n",
        "  W = pd.DataFrame(data.data[50:], columns= ['feature1','feature2','feature3','feature4']) # storing the data into a data frame.\n",
        "  z = pd.Series(data.target[50:]) # storing the labels in a series\n",
        "  z = z-1\n",
        "  X, X_test, y, y_test = train_test_split(W,z,test_size=0.1,shuffle = True) # splitting the data\n",
        "\n",
        "  # Resetting the index for ease\n",
        "  X=X.reset_index(drop = True) \n",
        "  X_test= X_test.reset_index(drop = True)\n",
        "  y = y.reset_index(drop = True)\n",
        "  y_test = y_test.reset_index(drop =True)\n",
        "\n",
        "\n",
        "  return W,z,X,y,X_test,y_test"
      ],
      "metadata": {
        "id": "vItK9_U65oT8"
      },
      "execution_count": 3,
      "outputs": []
    },
    {
      "cell_type": "code",
      "source": [
        "class CompositeClassifierDesign:\n",
        "  def __init__(self,simple_classifier,critical_classifier):\n",
        "    self.lda1 =LinearDiscriminantAnalysis(solver = 'svd') # LDA with svd solver to get hyper plane 1 \n",
        "    self.lda2 =LinearDiscriminantAnalysis(solver = 'lsqr', shrinkage ='auto') #LDA with lsqr solver to get hyperplane 2\n",
        "    self.simple = simple_classifier\n",
        "    self.critical = critical_classifier\n",
        "\n",
        "\n",
        "  def train(self,X,y):\n",
        "    # Dividing the training data into 2 halves, one for each hyperplanes\n",
        "    X_train1, X_train2, y_train1, y_train2 = train_test_split(X,y,test_size=0.5,shuffle = True)\n",
        "    X_train1=X_train1.reset_index(drop = True)\n",
        "    X_train2= X_train2.reset_index(drop = True)\n",
        "    y_train1 = y_train1.reset_index(drop = True)\n",
        "    y_train2 = y_train2.reset_index(drop =True)\n",
        "\n",
        "    #get the equations for the two hyperplanes\n",
        "    self.lda1.fit(X_train1,y_train1)\n",
        "    self.lda2.fit(X_train2,y_train2)\n",
        "\n",
        "    # Finding the points in critical and acceptance regions\n",
        "    hyp1_pred=self.lda1.predict(X)\n",
        "    hyp2_pred=self.lda2.predict(X)\n",
        "\n",
        "    acceptance_index = [] # the points for training the actual linear classifier are stored here\n",
        "    critical_index = []  # The points that lie in the critical region are stored in this list.\n",
        "    for i in range(len(X)): # if point is on the same side of the hyperplanes then it belongs to acceptance region \n",
        "    #else it lies in the critical region\n",
        "      acceptance_index.append(i) if hyp1_pred[i] == hyp2_pred[i] else critical_index.append(i)\n",
        "\n",
        "    # Resetting the index of the data frames for ease.\n",
        "    simple_train=X.iloc[acceptance_index].reset_index(drop=True)\n",
        "    simple_label=y.iloc[acceptance_index].reset_index(drop=True)\n",
        "    # if there points in the critical region then train the critical classifier on those points\n",
        "    if len(critical_index):\n",
        "      knn_train = X.iloc[critical_index].reset_index(drop=True)\n",
        "      knn_label = y.iloc[critical_index].reset_index(drop=True)\n",
        "      self.critical.fit(knn_train.to_numpy(),knn_label)\n",
        "      self.no_crit_flag = False\n",
        "    else: # set a flag telling there was no critical classifier trained\n",
        "      self.no_crit_flag = True\n",
        "    # train the simple classifier on the points belonging to the acceptance region\n",
        "    self.simple.fit(simple_train.to_numpy(),simple_label)\n",
        "    \n",
        "\n",
        "\n",
        "\n",
        "  def classification_and_accuracy(self,X_test,y_test):\n",
        "  # this function stores the predicitons of the simple and critcal classifiers in the state of the instance\n",
        "  # and returns the accuracy of the ensemble prediciton\n",
        "    if self.no_crit_flag: # if a crtical classifier is not trained, then predict everything with simple classifier\n",
        "      self.simple_prediction = self.simple.predict(X_test.to_numpy())\n",
        "      # return the accuracy score\n",
        "      return accuracy_score(y_test,self.simple_prediction)\n",
        "\n",
        "    # deciding the position of the points in the CR or AR\n",
        "    hyp1_pred=self.lda1.predict(X_test)\n",
        "    hyp2_pred=self.lda2.predict(X_test)\n",
        "\n",
        "    acceptance_index = []\n",
        "    critical_index = []\n",
        "    for i in range(len(X_test)):\n",
        "      acceptance_index.append(i) if hyp1_pred[i] == hyp2_pred[i] else critical_index.append(i)\n",
        "\n",
        "    simple_predict=X_test.iloc[acceptance_index].reset_index(drop=True)\n",
        "    simple_label=y_test.iloc[acceptance_index].reset_index(drop=True).tolist()\n",
        "    knn_predict = X_test.iloc[critical_index].reset_index(drop=True)\n",
        "    knn_label = y_test.iloc[critical_index].reset_index(drop=True).tolist()\n",
        "\n",
        "    final_simple_prediction = []\n",
        "    for i in range(len(simple_predict)):\n",
        "      simple_prediction = self.simple.predict([simple_predict.iloc[i]])\n",
        "      simple_prediction_probability = self.simple.predict_proba([simple_predict.iloc[i]])\n",
        "      if simple_prediction_probability[0][0] <= 0.6: # if the prediction probability of the classifier is not grater than 60% predit it usign knn classifier\n",
        "        simple_prediction = self.critical.predict([simple_predict.iloc[i]])\n",
        "      final_simple_prediction.append(simple_prediction[0])\n",
        "    if len(knn_predict):\n",
        "      final_knn_prediction = self.critical.predict(knn_predict.to_numpy()).tolist()\n",
        "      # print(type(final_knn_prediction))\n",
        "    else:\n",
        "      final_knn_prediction = []\n",
        "    self.simple_prediction = final_simple_prediction\n",
        "    self.critical_prediction = final_knn_prediction\n",
        "    # print('simple predictions: ', final_simple_prediction)\n",
        "    # print('final critical predictions: ',final_knn_prediction)\n",
        "    # print ('true: ', simple_label + knn_label)\n",
        "    # print('predictions: ', final_simple_prediction + final_knn_prediction)\n",
        "    # print('total predictions: ',len())\n",
        "    return accuracy_score(simple_label+knn_label,final_simple_prediction+final_knn_prediction)\n"
      ],
      "metadata": {
        "id": "Tzo6Z4jzm2kS"
      },
      "execution_count": 4,
      "outputs": []
    },
    {
      "cell_type": "code",
      "source": [
        "W,z,X,y,X_test,y_test = prepare_data()\n",
        "old = CompositeClassifierDesign(LogisticRegression(),KNeighborsClassifier(n_neighbors=1))\n",
        "old.train(X,y)\n",
        "old.classification_and_accuracy(X_test,y_test)"
      ],
      "metadata": {
        "colab": {
          "base_uri": "https://localhost:8080/"
        },
        "id": "_3caAN7IzNap",
        "outputId": "188142b2-9a52-44a4-d23a-e7b8afb5b92b"
      },
      "execution_count": 5,
      "outputs": [
        {
          "output_type": "execute_result",
          "data": {
            "text/plain": [
              "0.9"
            ]
          },
          "metadata": {},
          "execution_count": 5
        }
      ]
    },
    {
      "cell_type": "markdown",
      "source": [
        "#Adaboost"
      ],
      "metadata": {
        "id": "2lNH1_y6xKXU"
      }
    },
    {
      "cell_type": "markdown",
      "source": [
        "The code for Adaboost algorithm was written by me for the submission of mid term assignment. The code has been modified to correct the errors and to handle actual classifiers and data."
      ],
      "metadata": {
        "id": "R9__Rg0q6KPL"
      }
    },
    {
      "cell_type": "markdown",
      "source": [
        "# **Note:**\n",
        "The data set has relatively less number of points. Due to this the adaboost algo sometimes keeps on selecting the same points again and again. If a majority of the points selected is always same the beta value is not changed much and if it is > 1, the classifiers are trained over and over and it might give an impression that the algorithm is stuck in a loop.\n",
        "In case, this happens: **If stuck, Please run the cell again**"
      ],
      "metadata": {
        "id": "VRFjlk41QoZH"
      }
    },
    {
      "cell_type": "code",
      "source": [
        "def train (data,labels, probability_list, proportion): \n",
        "# This function generates training data for the classifiers based on the probability assigned to each data point.\n",
        "# The enitre data is not used for training the classfier. Instead a proportion, specified as an input will be used to train the classifier.\n",
        "  \n",
        "  if type(proportion) == float: # Proportion can only be float data.Other datatypes are not allowed.\n",
        "    size = round(len(labels)*proportion) #calculate the exact number of data types to be used for training the classifier\n",
        "    train_data = choice(len(labels), size= size,p=probability_list,replace=False)\n",
        "    X_train = data.to_numpy()[train_data] # Restacking the data into an array\n",
        "    y_train = np.array(labels)[train_data] # list of labels for the training data for the classifier.\n",
        "    return X_train,y_train # return the output\n",
        "  else:\n",
        "    raise TypeError ('Datatype entered does not match float datatype.')\n",
        "\n",
        "class AdaBoost: # class to implement the adaboost algorithm\n",
        "  def __init__(self):\n",
        "    self.betas = [] #weights for each classifier\n",
        "    self.weak_classifier_predictions = [] # predictions of each classifier\n",
        "\n",
        "  def ada_train(self,dataset,labels,T): # Used for the training of the individual classifiers and deciding on their weights.\n",
        "    N = len(labels) #length of the datasets/labels\n",
        "    # print('length of labels = ',N)\n",
        "    w = [1/N]*N #initializing the weight vector \n",
        "    p = w[:] #to store probabilities associated with each item/sample\n",
        "    #h = [] # store predictions for all the classifiers\n",
        "    #betas = [] # store for all the classifiers\n",
        "    for t in range(T): # For each classifier\n",
        "      for i in range(N): # For each data point\n",
        "        #step 1: calculating the probabilities associated with each sample using the weights which are calculated using the input distribution\n",
        "        p[i] = w[i]/sum(w) #sum(p) should be 1 always\n",
        "      # print('Sum of probabilities is: ', sum(p)) # comment this later\n",
        "      # print('probability list : ', p)\n",
        "      # print('weights : ',w)\n",
        "      #step2\n",
        "      beta = 1000000 #initializing the beta value with a large number\n",
        "      preds = 'X' # initialization of the list that will hold the predictions of individual classifiers\n",
        "      while beta >= 1: #ensuring error < 0.5 and the weights for correctly classified samples don't increase.\n",
        "        # print('Entered while loop')\n",
        "        weaklearn = LogisticRegression()\n",
        "        X_train,y_train = train(dataset,labels,p,0.6)\n",
        "        weaklearn.fit(X_train,y_train)\n",
        "        # weaklearn.train(dataset,labels,p) ##train data\n",
        "        preds = weaklearn.predict(dataset.to_numpy())\n",
        "        # preds = [] #store the classification result for the classifier\n",
        "        # for i in range(N):\n",
        "        #   preds.append(weaklearn.classify(i)) ##test data\n",
        "\n",
        "        #step3\n",
        "        # print('predictions for this classifier: ', preds)\n",
        "        epsilon = 0. #initializing the error for the classifier\n",
        "        for i in range(N):\n",
        "          epsilon += p[i]*abs(preds[i]-labels[i]) #calculating the error for the classifier\n",
        "\n",
        "        #step4\n",
        "        # print('epsilon value = ', epsilon)\n",
        "        beta = epsilon/ (1-epsilon) #here we get the beta value for the classifier\n",
        "\n",
        "      if beta == 0:\n",
        "        beta =  math.e**-709.782712893 #introducing a very small error to maintain consistency in logic\n",
        "      self.betas.append(beta) #saving the beta value for the classifier once beta is less than 1.\n",
        "      self.weak_classifier_predictions.append(preds) #save the classifiation results for the classifier\n",
        "      # print('values stored')\n",
        "      # print()\n",
        "\n",
        "      #step5\n",
        "      for i in range(N):\n",
        "        w[i] = w[i]*beta**(1-abs(preds[i]-labels[i])) #change the weights associated with the samples/items for the next classifier. \n",
        "        if w[i]== 0:\n",
        "          w[i] = math.e**-709.782712893 # instead of storing zero in the weights we store a very small number.\n",
        "      # print('Sum of probabilities is: ', sum(p)) # comment this later\n",
        "      # print('probability list : ', p)\n",
        "      # print('weights : ',w)\n",
        "      # print('betas : ', self.betas)\n",
        "      # print('predictions:', preds)\n",
        "\n",
        "\n",
        "  def classify(self,item):\n",
        "    if len(self.betas): #if the adaboost model has been trained then proceed.\n",
        "      T = len(self.betas) #number of classifiers\n",
        "      val1,val2 = 0,0\n",
        "      for t in range(T): #calculating the values according to the paper\n",
        "        val1 += math.log(1/self.betas[t])*self.weak_classifier_predictions[t][item]\n",
        "        val2 += math.log(1/self.betas[t])\n",
        "      val2 = val2/2\n",
        "      if val1 >= val2: #checking the conditions as per the paper\n",
        "        return 1\n",
        "      else:\n",
        "        return 0\n",
        "    else:\n",
        "      return False"
      ],
      "metadata": {
        "id": "O5qmqbMRzTik"
      },
      "execution_count": 6,
      "outputs": []
    },
    {
      "cell_type": "code",
      "source": [
        "random.seed(0)\n",
        "z_labels = [z[i] for i in range(len(z))]\n",
        "adaBoost = AdaBoost()\n",
        "adaBoost.ada_train(W,z_labels,10)\n",
        "# print(adaBoost.betas)\n",
        "# print(adaBoost.weak_classifier_predictions)\n",
        "ada_predictions= [adaBoost.classify(n) for n in range(len(z))]\n",
        "accuracy_score(z_labels,ada_predictions)"
      ],
      "metadata": {
        "id": "05L1xMyigweo",
        "colab": {
          "base_uri": "https://localhost:8080/"
        },
        "outputId": "55460836-d095-402f-869c-afdb24098893"
      },
      "execution_count": 7,
      "outputs": [
        {
          "output_type": "execute_result",
          "data": {
            "text/plain": [
              "0.96"
            ]
          },
          "metadata": {},
          "execution_count": 7
        }
      ]
    },
    {
      "cell_type": "code",
      "source": [
        "np.array(ada_predictions)"
      ],
      "metadata": {
        "colab": {
          "base_uri": "https://localhost:8080/"
        },
        "id": "f0tPv1JwrmCJ",
        "outputId": "0bff73ff-b22d-44d1-fc5d-c4a99d4f17bd"
      },
      "execution_count": 8,
      "outputs": [
        {
          "output_type": "execute_result",
          "data": {
            "text/plain": [
              "array([0, 0, 0, 0, 0, 0, 0, 0, 0, 0, 0, 0, 0, 0, 0, 0, 0, 0, 0, 0, 1, 0,\n",
              "       0, 0, 0, 0, 0, 1, 0, 0, 0, 0, 0, 1, 0, 0, 0, 0, 0, 0, 0, 0, 0, 0,\n",
              "       0, 0, 0, 0, 0, 0, 1, 1, 1, 1, 1, 1, 0, 1, 1, 1, 1, 1, 1, 1, 1, 1,\n",
              "       1, 1, 1, 1, 1, 1, 1, 1, 1, 1, 1, 1, 1, 1, 1, 1, 1, 1, 1, 1, 1, 1,\n",
              "       1, 1, 1, 1, 1, 1, 1, 1, 1, 1, 1, 1])"
            ]
          },
          "metadata": {},
          "execution_count": 8
        }
      ]
    },
    {
      "cell_type": "code",
      "source": [
        "np.array(z_labels)"
      ],
      "metadata": {
        "colab": {
          "base_uri": "https://localhost:8080/"
        },
        "id": "F7d5qZbLCgBI",
        "outputId": "32d4ce00-359d-4ff3-e872-9fdd04ed4bec"
      },
      "execution_count": 9,
      "outputs": [
        {
          "output_type": "execute_result",
          "data": {
            "text/plain": [
              "array([0, 0, 0, 0, 0, 0, 0, 0, 0, 0, 0, 0, 0, 0, 0, 0, 0, 0, 0, 0, 0, 0,\n",
              "       0, 0, 0, 0, 0, 0, 0, 0, 0, 0, 0, 0, 0, 0, 0, 0, 0, 0, 0, 0, 0, 0,\n",
              "       0, 0, 0, 0, 0, 0, 1, 1, 1, 1, 1, 1, 1, 1, 1, 1, 1, 1, 1, 1, 1, 1,\n",
              "       1, 1, 1, 1, 1, 1, 1, 1, 1, 1, 1, 1, 1, 1, 1, 1, 1, 1, 1, 1, 1, 1,\n",
              "       1, 1, 1, 1, 1, 1, 1, 1, 1, 1, 1, 1])"
            ]
          },
          "metadata": {},
          "execution_count": 9
        }
      ]
    },
    {
      "cell_type": "markdown",
      "source": [
        "# Ensemble System using plurality voting with Borda Count"
      ],
      "metadata": {
        "id": "N2hgI3YhCqV4"
      }
    },
    {
      "cell_type": "markdown",
      "source": [
        "Ensemble of Logistic Regression, Knn, SVM and Naive Byes where the final output is decided using Borda Voting Count."
      ],
      "metadata": {
        "id": "_k2wLmpmFASq"
      }
    },
    {
      "cell_type": "markdown",
      "source": [
        "## Borda Voting for aggregation of classifiers"
      ],
      "metadata": {
        "id": "ZrDykL6G_e2X"
      }
    },
    {
      "cell_type": "code",
      "source": [
        "def bordaAggregation(opinions): \n",
        "  input = get_actionable_list(opinions) #labels with the prediction probability\n",
        "  scores = [] \n",
        "  sum_scores = [] #holds final sum of scores corresponding to each label\n",
        "  final = []\n",
        "  # print(sum_scores)\n",
        "  # print(input)\n",
        "  for nn in input: #sort according the prediction probability \n",
        "  #(labels are clubbed so we know which label is assoiated with which probability)\n",
        "    nn.sort(key=lambda x:x[-1], reverse =True) # in place sorting algorithm\n",
        "    #sorting in reverse order because the 'winners' are decided by random choice and not the 'losers'\n",
        "  # print (input)\n",
        "\n",
        "  for nn in input:\n",
        "    score = [0]*len(nn)\n",
        "    #count = 1\n",
        "    count = len(nn)\n",
        "    i = 0\n",
        "    while i < len(nn): #this loop is used to break ties in case neural network equally prefers two or more labels\n",
        "      # print ('i = ', i)\n",
        "      common = [nn[i]] #all the ties are stored in this list (in-order)\n",
        "      for j in range(i+1,len(nn)):\n",
        "        # print ('i = ',i,' j = ',j)\n",
        "        if nn[j][-1] == nn[i][-1]:\n",
        "          # print('inside if')\n",
        "          common.append(nn[j])\n",
        "          # print('increasing i to ', j+1)\n",
        "          i = j\n",
        "        else:\n",
        "          # print('inside else')\n",
        "          # print('j iteration ends with break')\n",
        "          break\n",
        "        # print('j iteration ends')\n",
        "      while len(common): #while there is an element causing the tie, we break it and select choice is removed from common list\n",
        "        # print('score array = ',score)\n",
        "        # print('common array = ',common)\n",
        "        x = random.choice(common)\n",
        "        # print('selected choice is = ',x)\n",
        "        # print('count = ',count)\n",
        "        score[x[0]] = count #assign the winner its respective score\n",
        "        # count+=1\n",
        "        count -=1\n",
        "        common.remove(x)\n",
        "      # print('i iteration ends.')\n",
        "      i+=1\n",
        "    # print('saving scores...') \n",
        "    # print('score : ', score)\n",
        "    scores.append(score)\n",
        "  # print('final_scores:' ,scores)  \n",
        "\n",
        "  \n",
        "  for i in range(len(scores[0])): #sum up the scores for each label for all the neural networks\n",
        "    y = 0\n",
        "    for j in range(len(scores)):\n",
        "      y += scores[j][i]\n",
        "    sum_scores.append(y)\n",
        "  # print('sum of the scores: ',sum_scores) \n",
        "\n",
        "  outputs = [pair for pair in enumerate(sum_scores)] #label score pairs for breaking ties\n",
        "  # print(outputs)\n",
        "  outputs.sort(key=lambda x:x[-1], reverse = True) #sorting the labels according the scores\n",
        "  # print(outputs)\n",
        "  i = 0\n",
        "  while i < len(outputs): #this loop is used to break the ties when the scores received for two or more labels are same\n",
        "    # print ('i = ', i)\n",
        "    common = [outputs[i]]\n",
        "    for j in range(i+1,len(outputs)):\n",
        "      # print ('i = ',i,' j = ',j)\n",
        "      if outputs[j][-1] == outputs[i][-1]:\n",
        "        # print('inside if')\n",
        "        common.append(outputs[j])\n",
        "        # print('increasing i to ', j+1)\n",
        "        i = j\n",
        "      else:\n",
        "        # print('inside else')\n",
        "        # print('j iteration ends with break')\n",
        "        break\n",
        "      # print('j iteration ends') \n",
        "    while len(common):\n",
        "        # print('final array = ',final)\n",
        "        # print('common array = ',common)\n",
        "        x = random.choice(common)\n",
        "        # print('selected choice is = ',x)\n",
        "        #final = [x[0]]+final\n",
        "        final.append(x[0])\n",
        "        common.remove(x)\n",
        "    # print('i iteration ends.')\n",
        "    i+=1\n",
        "  # print(final) \n",
        "  return final   \n",
        "\n",
        "#helper function\n",
        "def get_actionable_list(opinions): #clubbing the probability of the preference of the label with the label\n",
        "  p = []\n",
        "  for nn in opinions:\n",
        "    x = [pair for pair in enumerate(nn)]\n",
        "    p.append(x)\n",
        "  return p"
      ],
      "metadata": {
        "id": "s0BWR0AOOO0a"
      },
      "execution_count": 10,
      "outputs": []
    },
    {
      "cell_type": "code",
      "source": [
        "borda_lr = LogisticRegression()\n",
        "borda_knn = KNeighborsClassifier()\n",
        "borda_svm = SVC(probability=True)\n",
        "borda_nb = GaussianNB()\n",
        "\n",
        "borda_lr.fit(X,y)\n",
        "borda_lr_prediction = borda_lr.predict_proba(X_test)\n",
        "\n",
        "borda_knn.fit(X,y)\n",
        "borda_knn_prediction = borda_knn.predict_proba(X_test)\n",
        "\n",
        "borda_nb.fit(X,y)\n",
        "borda_nb_prediction = borda_nb.predict_proba(X_test)\n",
        "\n",
        "borda_svm.fit(X,y)\n",
        "borda_svm_prediction = borda_svm.predict_proba(X_test)"
      ],
      "metadata": {
        "id": "_TIyW3KXD4MT"
      },
      "execution_count": 11,
      "outputs": []
    },
    {
      "cell_type": "code",
      "source": [
        "list(borda_svm_prediction[0])"
      ],
      "metadata": {
        "colab": {
          "base_uri": "https://localhost:8080/"
        },
        "id": "fFJ4rrjLMEvs",
        "outputId": "611e9845-a8d5-4304-8f33-09d09ca6a0d0"
      },
      "execution_count": 12,
      "outputs": [
        {
          "output_type": "execute_result",
          "data": {
            "text/plain": [
              "[0.004892893277805647, 0.9951071067221943]"
            ]
          },
          "metadata": {},
          "execution_count": 12
        }
      ]
    },
    {
      "cell_type": "code",
      "source": [
        "borda_ensemble_predictions = [bordaAggregation([list(borda_lr_prediction[i]),list(borda_knn_prediction[i]),list(borda_nb_prediction[i]),list(borda_svm_prediction[i])])[0] for i in range(len(y_test))]\n",
        "borda_ensemble_predictions"
      ],
      "metadata": {
        "colab": {
          "base_uri": "https://localhost:8080/"
        },
        "id": "c5Al7jrlNMJr",
        "outputId": "f1e42653-35bf-4709-e9d4-ba2a1f4158fb"
      },
      "execution_count": 13,
      "outputs": [
        {
          "output_type": "execute_result",
          "data": {
            "text/plain": [
              "[1, 1, 1, 0, 0, 0, 1, 1, 1, 0]"
            ]
          },
          "metadata": {},
          "execution_count": 13
        }
      ]
    },
    {
      "cell_type": "code",
      "source": [
        "accuracy_score(y_test,borda_ensemble_predictions)"
      ],
      "metadata": {
        "colab": {
          "base_uri": "https://localhost:8080/"
        },
        "id": "g2FGNNWPRd5c",
        "outputId": "af9dc13a-5739-4509-a53d-60476db85c50"
      },
      "execution_count": 14,
      "outputs": [
        {
          "output_type": "execute_result",
          "data": {
            "text/plain": [
              "0.9"
            ]
          },
          "metadata": {},
          "execution_count": 14
        }
      ]
    },
    {
      "cell_type": "markdown",
      "source": [
        "#Learn++ (Random SubspaceEnsemble)\n",
        "\n",
        "Here, instead of dividing the data points between the ensembles, we divide the features between the ensembles. So, each classifier in the ensemble is trained on a different subspace of features.\n",
        "An advantage of this algorithm is that if a particular feature has missing values, during plurality voting wecan ignore the classifiers using that particular feature. Thus, we can avoid removal of data points or replacing it with a mean or other representative point.\n",
        "\n",
        "The algorithm is very much similar to adaboost"
      ],
      "metadata": {
        "id": "51izCw-1_dPQ"
      }
    },
    {
      "cell_type": "code",
      "source": [
        "class Learn:\n",
        "  def __init__(self,classifier_list,n):\n",
        "    self.classifier_list = classifier_list.copy()\n",
        "    self.n = n\n",
        "    self.featuresPerClassifier = []\n",
        "\n",
        "  def learn_train (self,dataset,labels):\n",
        "    if type(dataset) == pd.core.frame.DataFrame: # only accept pandas dataframe (for the sake of simplicity)\n",
        "      feature_list = list(dataset.columns) # list of feature names\n",
        "      # print('feature_list:', feature_list)\n",
        "      f = len(feature_list) # total no. of features\n",
        "      p = {} # probability against each feature\n",
        "      for feature in feature_list:\n",
        "        p[feature] = 1/f # initializing the probability of each feature\n",
        "      for classifier in self.classifier_list:\n",
        "        train_features = list(choice(feature_list,p=list(p.values()),size=self.n,replace=False)) # randomly selecting n features\n",
        "        # print('features for current classifier',train_features)\n",
        "        self.featuresPerClassifier.append(train_features.copy())\n",
        "        train_data = dataset[train_features] # calculating the training data\n",
        "        classifier.fit(train_data,labels) # training the classifier\n",
        "        for feature in train_features: # reducing the probability of selected features\n",
        "          p[feature] = p[feature]*self.n/f\n",
        "        p_total = sum(p.values())\n",
        "        for feature in feature_list: # increasing the probability of unselected features by normalizing\n",
        "          p[feature] = p[feature] / p_total\n",
        "    else:\n",
        "      raise TypeError('Type of the dataset should be a pandas dataframe')\n",
        "\n",
        "  def learn_classify(self,dataset):\n",
        "    prediction_probabilities = []\n",
        "    for index,classifier in enumerate(self.classifier_list):\n",
        "      prediction_probabilities.append(classifier.predict_proba(dataset[self.featuresPerClassifier[index]]))\n",
        "    final_predictions = [bordaAggregation([prediction_probability[i]for prediction_probability in prediction_probabilities])[0]for i in range(len(dataset))]\n",
        "    return final_predictions"
      ],
      "metadata": {
        "id": "7dKWhATiFkse"
      },
      "execution_count": 15,
      "outputs": []
    },
    {
      "cell_type": "code",
      "source": [
        "learn_lr = LogisticRegression()\n",
        "learn_knn = KNeighborsClassifier()\n",
        "learn_svm= SVC(probability=True)\n",
        "learn_nb = GaussianNB()\n",
        "classifier_list = [learn_lr,learn_knn,learn_svm,learn_nb]\n",
        "learn_ens = Learn(classifier_list,2)\n",
        "learn_ens.learn_train(X,y)\n"
      ],
      "metadata": {
        "id": "GKA-kcoGGWMt"
      },
      "execution_count": 16,
      "outputs": []
    },
    {
      "cell_type": "code",
      "source": [
        "learn_ens.featuresPerClassifier"
      ],
      "metadata": {
        "colab": {
          "base_uri": "https://localhost:8080/"
        },
        "id": "wTJKHeaYZyEa",
        "outputId": "0b03f36a-0361-49f6-9488-ad80cbda5696"
      },
      "execution_count": 17,
      "outputs": [
        {
          "output_type": "execute_result",
          "data": {
            "text/plain": [
              "[['feature2', 'feature4'],\n",
              " ['feature2', 'feature1'],\n",
              " ['feature4', 'feature3'],\n",
              " ['feature3', 'feature1']]"
            ]
          },
          "metadata": {},
          "execution_count": 17
        }
      ]
    },
    {
      "cell_type": "code",
      "source": [
        "predss = learn_ens.learn_classify(X_test)\n",
        "predss"
      ],
      "metadata": {
        "colab": {
          "base_uri": "https://localhost:8080/"
        },
        "id": "GwRX1EH8u3am",
        "outputId": "357774ff-2edc-4cbd-dc5c-d5c19249df2c"
      },
      "execution_count": 18,
      "outputs": [
        {
          "output_type": "execute_result",
          "data": {
            "text/plain": [
              "[1, 1, 1, 0, 0, 0, 1, 1, 1, 0]"
            ]
          },
          "metadata": {},
          "execution_count": 18
        }
      ]
    },
    {
      "cell_type": "code",
      "source": [
        "accuracy_score(y_test,predss)"
      ],
      "metadata": {
        "colab": {
          "base_uri": "https://localhost:8080/"
        },
        "id": "0cH8W-C3vq_I",
        "outputId": "34f07d2a-ee02-47d2-b07b-13b81aba970e"
      },
      "execution_count": 19,
      "outputs": [
        {
          "output_type": "execute_result",
          "data": {
            "text/plain": [
              "0.9"
            ]
          },
          "metadata": {},
          "execution_count": 19
        }
      ]
    },
    {
      "cell_type": "markdown",
      "source": [
        "# Stacked Generalization"
      ],
      "metadata": {
        "id": "_vyKssHw1gdX"
      }
    },
    {
      "cell_type": "code",
      "source": [
        "class StackedGeneralisation:\n",
        "  def __init__(self,classifiers,aggregator):\n",
        "    self.classifiers = classifiers  # saving the list of classifiers and aggregators in the state of the object\n",
        "    self.aggregator = aggregator\n",
        "\n",
        "  def train(self,dataset,labels):\n",
        "    n = len(dataset)\n",
        "    fake_train_dataset = pd.DataFrame(columns=[i for i in range(len(self.classifiers))])\n",
        "    fake_train_labels = labels.iloc[0:0]\n",
        "    for i in range(0,n,10):\n",
        "      test_data,test_labels = dataset.iloc[i:i+10],labels.iloc[i:i+10]\n",
        "      train_data = dataset.iloc[[j for j in range(n) if j not in range(i,i+10)] ] #creating a temporary copy of the dataset and labels to make division of training and fake test data easier\n",
        "      train_labels = labels.iloc[[j for j in range(n) if j not in range(i,i+10)] ]\n",
        "      #test_data, test_label = train_data.pop(n-i-1), train_labels.pop(n-i-1) #fake test data = starting from the last chunk upwards \n",
        "      # test_data, test_label = train_data.pop(i), train_labels.pop(i) #fake test data = starting from the first chunk downwards\n",
        "      fake_train_labels = pd.concat([fake_train_labels,test_labels],ignore_index=True)\n",
        "      fake_train_data = pd.DataFrame()\n",
        "      # print('training_data :', train_data)\n",
        "      # print('training_labels : ',train_labels)\n",
        "      # print('testing_data :', test_data)\n",
        "      # print('testing_labels : ',test_labels)\n",
        "      for index,classifier in enumerate(self.classifiers): # here we train all the base classifiers\n",
        "        classifier.fit(train_data,train_labels)\n",
        "        fake_train_data[index] = classifier.predict(test_data) #results form the feature for the aggregator\n",
        "      # print('fake_training_data: ',fake_train_data)\n",
        "      fake_train_dataset = pd.concat([fake_train_dataset,fake_train_data])\n",
        "    # print('final fake training data set : ', fake_train_dataset)\n",
        "    # print ('final fake training labels :' ,fake_train_labels)\n",
        "    self.aggregator.fit(fake_train_dataset,fake_train_labels) # training the aggregator on the final fake training data\n",
        "\n",
        "    for classifier in self.classifiers:\n",
        "      classifier.fit(dataset,labels)  #training the base classifiers on the entire dataset\n",
        "    \n",
        "  def classify(self,dataset):\n",
        "    test_data = pd.DataFrame()\n",
        "    x = 0\n",
        "    for index,classifier in enumerate(self.classifiers):\n",
        "      x = classifier.predict(dataset)  #using the trained base classifiers to generate the predictions which form the test data for the aggregator\n",
        "      test_data[index] = x\n",
        "    # print('final test data : ',test_data)\n",
        "    return self.aggregator.predict(test_data) # returning the result of the prediction by the aggregator"
      ],
      "metadata": {
        "id": "ACchUKUW1nxI"
      },
      "execution_count": 20,
      "outputs": []
    },
    {
      "cell_type": "code",
      "source": [
        "sg = StackedGeneralisation(classifier_list,LogisticRegression())\n",
        "sg.train(X,y)"
      ],
      "metadata": {
        "id": "Gd8Wdju9_Nqv"
      },
      "execution_count": 21,
      "outputs": []
    },
    {
      "cell_type": "code",
      "source": [
        "pred= sg.classify(X_test)"
      ],
      "metadata": {
        "id": "T8eA2P7E4YxR"
      },
      "execution_count": 22,
      "outputs": []
    },
    {
      "cell_type": "code",
      "source": [
        "accuracy_score(y_test,pred)"
      ],
      "metadata": {
        "colab": {
          "base_uri": "https://localhost:8080/"
        },
        "id": "T2oAQ-GTH1Yb",
        "outputId": "ee5d5e28-cc5e-4aed-f7f5-3af0ba4d5ba7"
      },
      "execution_count": 23,
      "outputs": [
        {
          "output_type": "execute_result",
          "data": {
            "text/plain": [
              "0.9"
            ]
          },
          "metadata": {},
          "execution_count": 23
        }
      ]
    },
    {
      "cell_type": "markdown",
      "source": [
        "# Mixture of Experts\n",
        "\n",
        "base features + classifier predictions"
      ],
      "metadata": {
        "id": "1z9vW3dlH64J"
      }
    },
    {
      "cell_type": "code",
      "source": [
        "class MOE (StackedGeneralisation):\n",
        "  def __init__(self,classifiers,aggregator):\n",
        "    StackedGeneralisation.__init__(self,classifiers,aggregator)\n",
        "\n",
        "  def train(self,dataset,labels):\n",
        "    n = len(dataset)\n",
        "    fake_train_dataset = pd.DataFrame(columns=list(dataset.columns)+[str(i) for i in range(len(self.classifiers))])\n",
        "    # print('initial fake training dataset : ')\n",
        "    # print(fake_train_dataset)\n",
        "    fake_train_labels = labels.iloc[0:0]\n",
        "    for i in range(0,n,10):\n",
        "      test_data,test_labels = dataset.iloc[i:i+10],labels.iloc[i:i+10]\n",
        "      train_data = dataset.iloc[[j for j in range(n) if j not in range(i,i+10)] ] #creating a temporary copy of the dataset and labels to make division of training and fake test data easier\n",
        "      train_labels = labels.iloc[[j for j in range(n) if j not in range(i,i+10)] ]\n",
        "      #test_data, test_label = train_data.pop(n-i-1), train_labels.pop(n-i-1) #fake test data = starting from the last chunk upwards \n",
        "      # test_data, test_label = train_data.pop(i), train_labels.pop(i) #fake test data = starting from the first chunk downwards\n",
        "      fake_train_labels = pd.concat([fake_train_labels,test_labels],ignore_index=True)\n",
        "      fake_train_data = test_data.copy()\n",
        "      # print('training_data :', train_data)\n",
        "      # print('training_labels : ',train_labels)\n",
        "      # print('testing_data :', test_data)\n",
        "      # print('testing_labels : ',test_labels)\n",
        "      for index,classifier in enumerate(self.classifiers): # here we train all the base classifiers\n",
        "        classifier.fit(train_data,train_labels)\n",
        "        fake_train_data[str(index)] = classifier.predict(test_data) #results form the feature for the aggregator\n",
        "      # print('fake_training_data: ')\n",
        "      # print(fake_train_data)\n",
        "      fake_train_dataset = pd.concat([fake_train_dataset,fake_train_data])\n",
        "      # print('intermediate fake training dataset')\n",
        "      # print(fake_train_dataset)\n",
        "    # print('final fake training data set : ')\n",
        "    # print(fake_train_dataset)\n",
        "    # print ('final fake training labels : ')\n",
        "    # print(fake_train_labels)\n",
        "    self.aggregator.fit(fake_train_dataset,fake_train_labels) # training the aggregator on the final fake training data\n",
        "\n",
        "    for classifier in self.classifiers:\n",
        "      classifier.fit(dataset,labels)  #training the base classifiers on the entire dataset\n",
        "    \n",
        "  def classify(self,dataset):\n",
        "    test_data = dataset.copy()\n",
        "    for index,classifier in enumerate(self.classifiers):\n",
        "      x = classifier.predict(dataset)  #using the trained base classifiers to generate the predictions which form the test data for the aggregator\n",
        "      test_data[str(index)] = x\n",
        "    # print('final test data : ',test_data)\n",
        "    return self.aggregator.predict(test_data) # returning the result of the prediction by the aggregator"
      ],
      "metadata": {
        "id": "4UbqSx6vIKG6"
      },
      "execution_count": 24,
      "outputs": []
    },
    {
      "cell_type": "code",
      "source": [
        "moe = MOE(classifier_list,LogisticRegression())\n",
        "moe.train(X,y)\n",
        "preds= moe.classify(X_test)\n",
        "accuracy_score(y_test,preds)"
      ],
      "metadata": {
        "colab": {
          "base_uri": "https://localhost:8080/"
        },
        "id": "RmzP-LoLPsmq",
        "outputId": "f63a3b6d-ab77-4a49-9768-4be0af21d075"
      },
      "execution_count": 25,
      "outputs": [
        {
          "output_type": "execute_result",
          "data": {
            "text/plain": [
              "0.9"
            ]
          },
          "metadata": {},
          "execution_count": 25
        }
      ]
    },
    {
      "cell_type": "code",
      "source": [
        "accuracy_score(y_test,preds)"
      ],
      "metadata": {
        "colab": {
          "base_uri": "https://localhost:8080/"
        },
        "id": "FyjpVZQKK-fh",
        "outputId": "1ca73665-bdf6-4990-babc-dc16e25e4272"
      },
      "execution_count": 26,
      "outputs": [
        {
          "output_type": "execute_result",
          "data": {
            "text/plain": [
              "0.9"
            ]
          },
          "metadata": {},
          "execution_count": 26
        }
      ]
    },
    {
      "cell_type": "markdown",
      "source": [
        "# Stack Generalization with prediction probabilites as feature"
      ],
      "metadata": {
        "id": "kSXJuy2aT5sa"
      }
    },
    {
      "cell_type": "code",
      "source": [
        "class StackedGeneralisationpp(StackedGeneralisation):\n",
        "  def __init__(self,classifiers,aggregator):\n",
        "    StackedGeneralisation.__init__(self,classifiers,aggregator)\n",
        "\n",
        "  def train(self,dataset,labels):\n",
        "    n = len(dataset)\n",
        "    unique_labels = len(labels.unique())\n",
        "    fake_train_dataset = pd.DataFrame(columns=[i for i in range(unique_labels*len(self.classifiers))])\n",
        "    fake_train_labels = labels.iloc[0:0]\n",
        "    for i in range(0,n,10):\n",
        "      test_data,test_labels = dataset.iloc[i:i+10],labels.iloc[i:i+10]\n",
        "      train_data = dataset.iloc[[j for j in range(n) if j not in range(i,i+10)] ] #creating a temporary copy of the dataset and labels to make division of training and fake test data easier\n",
        "      train_labels = labels.iloc[[j for j in range(n) if j not in range(i,i+10)] ]\n",
        "      #test_data, test_label = train_data.pop(n-i-1), train_labels.pop(n-i-1) #fake test data = starting from the last chunk upwards \n",
        "      # test_data, test_label = train_data.pop(i), train_labels.pop(i) #fake test data = starting from the first chunk downwards\n",
        "      fake_train_labels = pd.concat([fake_train_labels,test_labels],ignore_index=True)\n",
        "      fake_train_data = pd.DataFrame()\n",
        "      # print('training_data :', train_data)\n",
        "      # print('training_labels : ',train_labels)\n",
        "      # print('testing_data :', test_data)\n",
        "      # print('testing_labels : ',test_labels)\n",
        "      \n",
        "      for index,classifier in enumerate(self.classifiers): # here we train all the base classifiers\n",
        "        classifier.fit(train_data,train_labels)\n",
        "        fake_train_data = pd.concat([fake_train_data,pd.DataFrame(classifier.predict_proba(test_data))],axis=1,ignore_index=True) #results form the feature for the aggregator\n",
        "      # print('fake_training_data: ',fake_train_data)\n",
        "      fake_train_dataset = pd.concat([fake_train_dataset,fake_train_data])\n",
        "    # print('final fake training data set : ', fake_train_dataset)\n",
        "    # print ('final fake training labels :' ,fake_train_labels)\n",
        "    self.aggregator.fit(fake_train_dataset,fake_train_labels) # training the aggregator on the final fake training data\n",
        "\n",
        "    for classifier in self.classifiers:\n",
        "      classifier.fit(dataset,labels)  #training the base classifiers on the entire dataset\n",
        "    \n",
        "  def classify(self,dataset):\n",
        "    test_data = pd.DataFrame()\n",
        "    for index,classifier in enumerate(self.classifiers):\n",
        "      test_data = pd.concat([test_data,pd.DataFrame(classifier.predict_proba(dataset))],axis=1,ignore_index=True)  #using the trained base classifiers to generate the predictions which form the test data for the aggregator\n",
        "\n",
        "    # print('final test data : ',test_data)\n",
        "    return self.aggregator.predict(test_data) # returning the result of the prediction by the aggregator"
      ],
      "metadata": {
        "id": "LA32I3PEMFuQ"
      },
      "execution_count": 27,
      "outputs": []
    },
    {
      "cell_type": "code",
      "source": [
        "sgpp = StackedGeneralisationpp(classifier_list,LogisticRegression())\n",
        "sgpp.train(X,y)\n",
        "sgpp.classify(X_test)"
      ],
      "metadata": {
        "colab": {
          "base_uri": "https://localhost:8080/"
        },
        "id": "C0dDJZOiX9Un",
        "outputId": "5c112456-7a95-49ec-f559-51e349cb5166"
      },
      "execution_count": 28,
      "outputs": [
        {
          "output_type": "execute_result",
          "data": {
            "text/plain": [
              "array([1, 1, 1, 0, 0, 0, 1, 1, 1, 0])"
            ]
          },
          "metadata": {},
          "execution_count": 28
        }
      ]
    },
    {
      "cell_type": "code",
      "source": [
        "y_test"
      ],
      "metadata": {
        "colab": {
          "base_uri": "https://localhost:8080/"
        },
        "id": "0OJ7Sp6Whv-Z",
        "outputId": "37880864-a9f8-4ffa-89d2-15665f74ac6a"
      },
      "execution_count": 29,
      "outputs": [
        {
          "output_type": "execute_result",
          "data": {
            "text/plain": [
              "0    1\n",
              "1    1\n",
              "2    1\n",
              "3    0\n",
              "4    0\n",
              "5    0\n",
              "6    0\n",
              "7    1\n",
              "8    1\n",
              "9    0\n",
              "dtype: int64"
            ]
          },
          "metadata": {},
          "execution_count": 29
        }
      ]
    },
    {
      "cell_type": "markdown",
      "source": [
        "# Mixture of Experts with prediction probabilities as features"
      ],
      "metadata": {
        "id": "zG-Q11HQh185"
      }
    },
    {
      "cell_type": "code",
      "source": [
        "class MOEpp (MOE):\n",
        "  def __init__(self,classifiers,aggregator):\n",
        "    MOE.__init__(self,classifiers,aggregator)\n",
        "\n",
        "  def train(self,dataset,labels):\n",
        "    n = len(dataset)\n",
        "    unique_labels = len(labels.unique())\n",
        "    fake_train_dataset = pd.DataFrame(columns=[i for i in range((len(dataset.columns))+unique_labels*len(self.classifiers))])\n",
        "    # print('initial fake training dataset : ')\n",
        "    # print(fake_train_dataset)\n",
        "    fake_train_labels = labels.iloc[0:0]\n",
        "    for i in range(0,n,10):\n",
        "      test_data,test_labels = dataset.iloc[i:i+10].reset_index(drop=True),labels.iloc[i:i+10]\n",
        "      train_data = dataset.iloc[[j for j in range(n) if j not in range(i,i+10)] ] #creating a temporary copy of the dataset and labels to make division of training and fake test data easier\n",
        "      train_labels = labels.iloc[[j for j in range(n) if j not in range(i,i+10)] ]\n",
        "      #test_data, test_label = train_data.pop(n-i-1), train_labels.pop(n-i-1) #fake test data = starting from the last chunk upwards \n",
        "      # test_data, test_label = train_data.pop(i), train_labels.pop(i) #fake test data = starting from the first chunk downwards\n",
        "      fake_train_labels = pd.concat([fake_train_labels,test_labels],ignore_index=True)\n",
        "      fake_train_data = test_data.copy()\n",
        "      # print('training_data :', train_data)\n",
        "      # print('training_labels : ',train_labels)\n",
        "      # print('testing_data :')\n",
        "      # print(test_data)\n",
        "      # print('testing_labels : ',test_labels)\n",
        "      for index,classifier in enumerate(self.classifiers): # here we train all the base classifiers\n",
        "        classifier.fit(train_data,train_labels)\n",
        "        xx = pd.DataFrame(classifier.predict_proba(test_data))\n",
        "        # print('xx')\n",
        "        # print(xx)\n",
        "        fake_train_data = pd.concat([fake_train_data,pd.DataFrame(classifier.predict_proba(test_data))],axis=1,ignore_index=True) #results form the feature for the aggregator\n",
        "        # print('fake_training_data: ')\n",
        "        # print(fake_train_data)\n",
        "      fake_train_dataset = pd.concat([fake_train_dataset,fake_train_data])\n",
        "      # print('intermediate fake training dataset')\n",
        "      # print(fake_train_dataset)\n",
        "    # print('final fake training data set : ')\n",
        "    # print(fake_train_dataset)\n",
        "    # print ('final fake training labels : ')\n",
        "    # print(fake_train_labels)\n",
        "    self.aggregator.fit(fake_train_dataset,fake_train_labels) # training the aggregator on the final fake training data\n",
        "\n",
        "    for classifier in self.classifiers:\n",
        "      classifier.fit(dataset,labels)  #training the base classifiers on the entire dataset\n",
        "    \n",
        "  def classify(self,dataset):\n",
        "    test_data = dataset.copy()\n",
        "    for index,classifier in enumerate(self.classifiers):\n",
        "      test_data = pd.concat([test_data,pd.DataFrame(classifier.predict_proba(dataset))],axis=1,ignore_index=True)  #using the trained base classifiers to generate the predictions which form the test data for the aggregator\n",
        "    # print('final test data : ',test_data)\n",
        "    return self.aggregator.predict(test_data) # returning the result of the prediction by the aggregator"
      ],
      "metadata": {
        "id": "lCM2Gc6siAhr"
      },
      "execution_count": 30,
      "outputs": []
    },
    {
      "cell_type": "code",
      "source": [
        "moepp = MOEpp(classifier_list,LogisticRegression())\n",
        "moepp.train(X,y)\n",
        "moepp.classify(X_test)"
      ],
      "metadata": {
        "colab": {
          "base_uri": "https://localhost:8080/"
        },
        "id": "yLtdWfqEj7Yo",
        "outputId": "9a25a9c1-d1c7-4f66-8cbc-64c132810c34"
      },
      "execution_count": 31,
      "outputs": [
        {
          "output_type": "execute_result",
          "data": {
            "text/plain": [
              "array([1, 1, 1, 0, 0, 0, 1, 1, 1, 0])"
            ]
          },
          "metadata": {},
          "execution_count": 31
        }
      ]
    },
    {
      "cell_type": "code",
      "source": [
        "y_test"
      ],
      "metadata": {
        "colab": {
          "base_uri": "https://localhost:8080/"
        },
        "id": "xPJeIeI3qrFZ",
        "outputId": "cb8ae0d4-f0d5-4b24-c23b-f38bc08bb1f3"
      },
      "execution_count": 32,
      "outputs": [
        {
          "output_type": "execute_result",
          "data": {
            "text/plain": [
              "0    1\n",
              "1    1\n",
              "2    1\n",
              "3    0\n",
              "4    0\n",
              "5    0\n",
              "6    0\n",
              "7    1\n",
              "8    1\n",
              "9    0\n",
              "dtype: int64"
            ]
          },
          "metadata": {},
          "execution_count": 32
        }
      ]
    },
    {
      "cell_type": "markdown",
      "source": [
        "# Using multi arm bandit to create ensemble"
      ],
      "metadata": {
        "id": "ypbQ0G0fsA4q"
      }
    },
    {
      "cell_type": "markdown",
      "source": [
        "## i)using plurality voting with borda aggregation\n",
        "## ii)combining ensembles with stacked generalization"
      ],
      "metadata": {
        "id": "6W64vKH9oNOO"
      }
    },
    {
      "cell_type": "markdown",
      "source": [
        "This ensemble is particularly useful when trying to learn a database with high dimensions. Instead of relying on the dimensionality reduction techniques sometimes rely on unjustified assumptions, we use a modified version of UCB1 algorithm to select the features to train the classifiers. This way the classifiers are trained on a good mix of explored-exploited features. These classifiers are then combined/aggregated using stacked generalization or majority voting using borda aggregation. This ensemble has many advantages. It helps in dealing with large dimensions of the data by finding one the best mix of features that result in good accuracy and the less-explored features, the algorithm provides flexibility of deciding the number of features to train each participating classifier of the ensemble, we can deal with missing data exactly how it is done with learn++ by ignoring the classifiers which are trained on features containing missing values.\n"
      ],
      "metadata": {
        "id": "AL4GQuyHEj66"
      }
    },
    {
      "cell_type": "code",
      "source": [
        "class Novel_ensemble: #class for the novel approach\n",
        "  def __init__(self,classifier_list,aggregator=None): #Constructor\n",
        "    self.classifier_list = classifier_list #store the list of classifiers in the ensemble\n",
        "    self.aggregator = aggregator #save the aggregator for stacked generalization\n",
        "\n",
        "  def train_ensemble_stacked_generalization (self,X,y,feature_count): #training function which combines classifiers using stacked gen.\n",
        "    if self.aggregator is None: #if the aggregator was not passed stacked gen is not possible.\n",
        "    #raise the exception\n",
        "      raise ValueError ('aggregator not passed so cannot fit ensemble with stacked generalization')\n",
        "    n = len(X) #length of the training dataset\n",
        "    #creating a dataframe to hold fake training for the aggregator.\n",
        "    #no. of features = no. of classifiers\n",
        "    fake_train_dataset = pd.DataFrame(columns=[i for i in range(len(self.classifier_list))])\n",
        "    fake_train_labels = y.iloc[0:0]\n",
        "\n",
        "    bandit = UCE(X.columns.copy()) #instantiate the multi arm bandit\n",
        "    self.features_dict ={} # save the feature list on which each classifier is being trained.\n",
        "    for i in range(0,n,10): #divide the dataset into chunks of size 10 for the classifiers\n",
        "      test_data,test_labels = X.iloc[i:i+10],y.iloc[i:i+10] # assign one chunk for training\n",
        "      train_data = X.iloc[[j for j in range(n) if j not in range(i,i+10)] ] #creating a temporary copy of the dataset and labels to make division of training and fake test data easier\n",
        "      train_labels = y.iloc[[j for j in range(n) if j not in range(i,i+10)] ]\n",
        "      \n",
        "      #train the aggregator\n",
        "      fake_train_labels = pd.concat([fake_train_labels,test_labels],ignore_index=True)\n",
        "      fake_train_data = pd.DataFrame()\n",
        "      # print('training_data :', train_data)\n",
        "      # print('training_labels : ',train_labels)\n",
        "      # print('testing_data :', test_data)\n",
        "      # print('testing_labels : ',test_labels)\n",
        "      \n",
        "      for index,classifier in enumerate(self.classifier_list): # here we train all the base classifiers\n",
        "        if index not in self.features_dict: #select the features for each of the classifiers features are selected for each classifier only once.\n",
        "          self.features_dict[index] =bandit.select_features(feature_count) # store the feature list corresponding to the classifier.\n",
        "        classifier.fit(train_data[self.features_dict[index]],train_labels) # train the classifier\n",
        "        fake_train_data[index] = classifier.predict(test_data[self.features_dict[index]]) #results form the feature for the aggregator\n",
        "      # print('fake_training_data: ',fake_train_data)\n",
        "      fake_train_dataset = pd.concat([fake_train_dataset,fake_train_data])\n",
        "    # print('final fake training data set : ', fake_train_dataset)\n",
        "    # print ('final fake training labels :' ,fake_train_labels)\n",
        "    self.aggregator.fit(fake_train_dataset,fake_train_labels) # training the aggregator on the final fake training data\n",
        "\n",
        "    for index,classifier in enumerate(self.classifier_list):\n",
        "      classifier.fit(X[self.features_dict[index]],y)  #training the base classifiers on the entire dataset\n",
        "      reward = classifier.score(X[self.features_dict[index]],y)\n",
        "      bandit.update_object(self.features_dict[index],reward) # update the rewards in the UCE multi-arm bandit\n",
        "\n",
        "  def predict_ensemble_stacked_generalization(self,X):\n",
        "    test_data = pd.DataFrame() # dataframe for storing the test data for the aggregator.\n",
        "    for index,classifier in enumerate(self.classifier_list):\n",
        "      x = classifier.predict(X[self.features_dict[index]])  #using the trained base classifiers to generate the predictions which form the test data for the aggregator\n",
        "      test_data[index] = x\n",
        "    # print('final test data : ',test_data)\n",
        "    return self.aggregator.predict(test_data) # returning the result of the prediction by the aggregator\n",
        "\n",
        "\n",
        "  def train_ensemble_borda(self,X,y,feature_count): # This function trains the constituent classifiers while selecting\n",
        "  #the features using UCE and aggregates the ensemble using borda aggregaton rule.\n",
        "    X_train,X_val,y_train,y_val = train_test_split(X,y,test_size=0.1) # a small amount of data is stored for validation\n",
        "    bandit = UCE(X.columns.copy()) #instnatialte the multi-arm bandit\n",
        "    self.features_dict ={} #dict to sotre the feature list for each of the constituent classifier\n",
        "    for index,classifier in enumerate(self.classifier_list):\n",
        "      self.features_dict[index] =bandit.select_features(feature_count) # select the features for the classifier\n",
        "      # print(self.features_dict)\n",
        "      classifier.fit(X_train[self.features_dict[index]],y_train) # train the classifier\n",
        "      reward = classifier.score(X_val[self.features_dict[index]],y_val) \n",
        "      bandit.update_object(self.features_dict[index],reward) # update the rewards in the UCE multi arm bandit\n",
        "\n",
        "  def predict_ensemble_borda(self,X): # aggregation using borda\n",
        "    data=[classifier.predict_proba(X[self.features_dict[index]])for index,classifier in enumerate(classifier_list)]\n",
        "    borda_ensemble_predictions = [bordaAggregation([list(data[j][i])for j in range(len(data))])[0] for i in range(len(y_test))]\n",
        "    # borda_ensemble_predictions = [bordaAggregation([list(borda_lr_prediction[i]),list(borda_knn_prediction[i]),list(borda_nb_prediction[i]),list(borda_svm_prediction[i])])[0] for i in range(len(y_test))]\n",
        "    return borda_ensemble_predictions\n",
        "\n",
        "class UCE: # class for UCE multi arm bandit for feature selection\n",
        "  def __init__(self,feature_list): # Cosntructor\n",
        "    #self.arms = arms\n",
        "    self.feature_list = feature_list #store the list of features in the dataset\n",
        "    self.tplays = 0 #len(arms) # total number of times a feature was selected\n",
        "    self.nplays = {} # number of times a speicifc feature was selected\n",
        "    self.meanrewards = {} # for the storing the mean reward against each feature\n",
        "    for i in self.feature_list: # initialize the attributes\n",
        "      self.meanrewards[i]= 0 #self.arms[i].pull()\n",
        "      self.nplays[i] = 0 #1\n",
        "\n",
        "  def update_object(self,features_picked,reward): # function to update the rewards for each feature along wiith other attributes\n",
        "    for feature in features_picked: # for each feature that was selected for the classifier we update the mean reward\n",
        "      self.meanrewards[feature]= ((self.meanrewards[feature]*self.nplays[feature]) + reward)/(self.nplays[feature]+1)\n",
        "      self.nplays[feature]+=1\n",
        "      self.tplays+=1\n",
        "\n",
        "\n",
        "  def select_features(self,count): # funtion to select the features for training a classifier\n",
        "    #arm_picked = 'NA'\n",
        "    features_picked = []\n",
        "    # print('total nplays: ',self.nplays)\n",
        "    # if self.tplays < len(self.arms):\n",
        "    for i in self.feature_list:\n",
        "      # print('feature: ',i)\n",
        "      if self.nplays[i] ==0:\n",
        "        features_picked.append(i)\n",
        "      if len(features_picked)== count:  # if there were enough explored features, simply return the unexplored features\n",
        "        return features_picked\n",
        "    remaining = count-len(features_picked) # there were unexplored features but we need to select more features\n",
        "    # set the count of features that are yet to be added\n",
        "    # print('features picked so far: ', features_picked)\n",
        "    cb = {} # dictionary to store the cb for each feature\n",
        "    for i in self.feature_list:\n",
        "      if i not in features_picked: # feature is already picked no need to calculate the confidence bound\n",
        "        cb[i] = self.meanrewards[i] + (2*(math.log(self.tplays)/self.nplays[i]))**0.5\n",
        "      # print('list of cb: ',cb)  \n",
        "      # max_cb = max(cb.values())\n",
        "    cb_keys = sorted(cb,key = cb.get)  # sorted the confidence bounds based on the value\n",
        "    while remaining !=0:\n",
        "      key = cb_keys.pop() # the feature with max cb is selected\n",
        "      if key not in features_picked: # if the feature is not already picked select it\n",
        "        features_picked.append(key)\n",
        "        remaining = remaining -1 # reducing the remaining count\n",
        "    return features_picked # return the list once the requires number of features have been selected\n",
        "      # print('maximum cb: ',max_cb)\n",
        "      #plausible_arms = [i for i in cb if cb[i]==max_cb]\n",
        "      # print('plausible arms:',plausible_arms)\n",
        "\n",
        "      "
      ],
      "metadata": {
        "id": "YHpX7rNqsIXe"
      },
      "execution_count": 33,
      "outputs": []
    },
    {
      "cell_type": "code",
      "source": [
        "new = Novel_ensemble(classifier_list)\n",
        "new.train_ensemble_borda(X,y,4)\n",
        "new.predict_ensemble_borda(X_test)"
      ],
      "metadata": {
        "colab": {
          "base_uri": "https://localhost:8080/"
        },
        "id": "rPUiPWAiuzsk",
        "outputId": "ca0d8952-44e3-4c3f-ffe3-8fc547761b98"
      },
      "execution_count": 34,
      "outputs": [
        {
          "output_type": "execute_result",
          "data": {
            "text/plain": [
              "[1, 1, 1, 0, 0, 0, 1, 1, 1, 0]"
            ]
          },
          "metadata": {},
          "execution_count": 34
        }
      ]
    },
    {
      "cell_type": "code",
      "source": [
        "y_test"
      ],
      "metadata": {
        "colab": {
          "base_uri": "https://localhost:8080/"
        },
        "id": "tcTQJbCH2vDr",
        "outputId": "d606a6bb-ac18-4566-f469-57a9de2d52f1"
      },
      "execution_count": 35,
      "outputs": [
        {
          "output_type": "execute_result",
          "data": {
            "text/plain": [
              "0    1\n",
              "1    1\n",
              "2    1\n",
              "3    0\n",
              "4    0\n",
              "5    0\n",
              "6    0\n",
              "7    1\n",
              "8    1\n",
              "9    0\n",
              "dtype: int64"
            ]
          },
          "metadata": {},
          "execution_count": 35
        }
      ]
    },
    {
      "cell_type": "code",
      "source": [
        "new = Novel_ensemble(classifier_list,LogisticRegression())\n",
        "new.train_ensemble_stacked_generalization(X,y,3)\n",
        "new.predict_ensemble_stacked_generalization(X_test)"
      ],
      "metadata": {
        "colab": {
          "base_uri": "https://localhost:8080/"
        },
        "id": "ZAnCO7erkOuM",
        "outputId": "a4e737b8-8a12-41bd-d154-7f6c1d508400"
      },
      "execution_count": 36,
      "outputs": [
        {
          "output_type": "execute_result",
          "data": {
            "text/plain": [
              "array([1, 1, 1, 0, 0, 0, 1, 1, 1, 0])"
            ]
          },
          "metadata": {},
          "execution_count": 36
        }
      ]
    },
    {
      "cell_type": "markdown",
      "source": [
        "# Analysis"
      ],
      "metadata": {
        "id": "gjJh3OydGTQ8"
      }
    },
    {
      "cell_type": "markdown",
      "source": [
        "## Import the necessary libraries"
      ],
      "metadata": {
        "id": "gyYh4fK-GkGb"
      }
    },
    {
      "cell_type": "code",
      "source": [
        "ensemble_list = ['composite','adaboost','borda','learn++','stacked gen',\n",
        "                 'MOE', 'p-stacked gen', 'p-MOE', 'MAB borda', 'MAB stacked gen']\n",
        "training_time_performance = {}\n",
        "prediction_time_performance = {}\n",
        "accuracy_performance = {} \n",
        "for ensemble in ensemble_list:\n",
        "  training_time_performance[ensemble] = []\n",
        "  prediction_time_performance[ensemble] = []\n",
        "  accuracy_performance[ensemble] = []             "
      ],
      "metadata": {
        "id": "N5jCEtJHHQY6"
      },
      "execution_count": 37,
      "outputs": []
    },
    {
      "cell_type": "markdown",
      "source": [
        "# **Note:**\n",
        "The data set has relatively less number of points. Due to this the adaboost algo sometimes keeps on selecting the same points again and again. If a majority of the points selected is always same the beta value is not changed much and if it is > 1, the classifiers are trained over and over and it might give an impression that the algorithm is stuck in a loop.\n",
        "In case, this happens: **If stuck, Please run the cell again**"
      ],
      "metadata": {
        "id": "R_oaytXXOCVd"
      }
    },
    {
      "cell_type": "code",
      "source": [
        "for i in range(10):\n",
        "  W,z,X,y,X_test,y_test = prepare_data()\n",
        "  learn_lr = LogisticRegression()\n",
        "  learn_knn = KNeighborsClassifier()\n",
        "  learn_svm= SVC(probability=True)\n",
        "  learn_nb = GaussianNB()\n",
        "  classifier_list = [learn_lr,learn_knn,learn_svm,learn_nb]\n",
        "  for ensemble in ensemble_list:\n",
        "    if ensemble == 'composite':\n",
        "      time_train_start = time.perf_counter_ns()\n",
        "      old = CompositeClassifierDesign(LogisticRegression(),KNeighborsClassifier(n_neighbors=1))\n",
        "      old.train(X,y)\n",
        "      training_time_performance[ensemble].append(time.perf_counter_ns() - time_train_start)\n",
        "\n",
        "      time_classify_start = time.perf_counter_ns()\n",
        "      accuracy_performance[ensemble].append(old.classification_and_accuracy(X_test,y_test))\n",
        "      prediction_time_performance[ensemble].append(time.perf_counter_ns() - time_classify_start)\n",
        "\n",
        "    elif ensemble == 'adaboost':\n",
        "      # random.seed(0)\n",
        "      z_labels = [z[i] for i in range(len(z))]\n",
        "      time_train_start = time.perf_counter_ns()\n",
        "      adaBoost = AdaBoost()\n",
        "      adaBoost.ada_train(W,z_labels,10)\n",
        "      training_time_performance[ensemble].append(time.perf_counter_ns() - time_train_start)\n",
        "      \n",
        "      time_classify_start = time.perf_counter_ns()\n",
        "      ada_predictions= [adaBoost.classify(n) for n in range(len(z))]\n",
        "      accuracy_performance[ensemble].append(accuracy_score(z_labels,ada_predictions))\n",
        "      prediction_time_performance[ensemble].append(time.perf_counter_ns() - time_classify_start)\n",
        "\n",
        "    elif ensemble == 'borda':\n",
        "      borda_lr = LogisticRegression()\n",
        "      borda_knn = KNeighborsClassifier()\n",
        "      borda_svm = SVC(probability=True)\n",
        "      borda_nb = GaussianNB()\n",
        "\n",
        "      time_train_start = time.perf_counter_ns()\n",
        "      borda_lr.fit(X,y)\n",
        "      borda_knn.fit(X,y)\n",
        "      borda_nb.fit(X,y)\n",
        "      borda_svm.fit(X,y)\n",
        "      training_time_performance[ensemble].append(time.perf_counter_ns() - time_train_start)\n",
        "\n",
        "      time_classify_start = time.perf_counter_ns()\n",
        "      borda_lr_prediction = borda_lr.predict_proba(X_test)\n",
        "      borda_knn_prediction = borda_knn.predict_proba(X_test)\n",
        "      borda_nb_prediction = borda_nb.predict_proba(X_test)\n",
        "      borda_svm_prediction = borda_svm.predict_proba(X_test)\n",
        "\n",
        "      borda_ensemble_predictions = [bordaAggregation([list(borda_lr_prediction[i]),list(borda_knn_prediction[i]),list(borda_nb_prediction[i]),list(borda_svm_prediction[i])])[0] for i in range(len(y_test))]\n",
        "      accuracy_performance[ensemble].append(accuracy_score(y_test,borda_ensemble_predictions))\n",
        "\n",
        "      prediction_time_performance[ensemble].append(time.perf_counter_ns() - time_classify_start)\n",
        "\n",
        "    elif ensemble == 'learn++':\n",
        "      time_train_start = time.perf_counter_ns()\n",
        "      learn_ens = Learn(classifier_list,2)\n",
        "      learn_ens.learn_train(X,y)\n",
        "      training_time_performance[ensemble].append(time.perf_counter_ns() - time_train_start)\n",
        "\n",
        "      time_classify_start = time.perf_counter_ns()\n",
        "      predss = learn_ens.learn_classify(X_test)\n",
        "      accuracy_performance[ensemble].append(accuracy_score(y_test,predss))\n",
        "      prediction_time_performance[ensemble].append(time.perf_counter_ns() - time_classify_start)\n",
        "\n",
        "    elif ensemble == 'stacked gen':\n",
        "      time_train_start = time.perf_counter_ns()\n",
        "      sg = StackedGeneralisation(classifier_list,LogisticRegression())\n",
        "      sg.train(X,y)\n",
        "      training_time_performance[ensemble].append(time.perf_counter_ns() - time_train_start)\n",
        "\n",
        "      time_classify_start = time.perf_counter_ns()\n",
        "      pred= sg.classify(X_test)\n",
        "      accuracy_performance[ensemble].append(accuracy_score(y_test,pred))\n",
        "      prediction_time_performance[ensemble].append(time.perf_counter_ns() - time_classify_start)\n",
        "\n",
        "    elif ensemble == 'MOE':\n",
        "      time_train_start = time.perf_counter_ns()\n",
        "      moe = MOE(classifier_list,LogisticRegression())\n",
        "      moe.train(X,y)\n",
        "      training_time_performance[ensemble].append(time.perf_counter_ns() - time_train_start)\n",
        "      \n",
        "      time_classify_start = time.perf_counter_ns()\n",
        "      pred= moe.classify(X_test)\n",
        "      accuracy_performance[ensemble].append(accuracy_score(y_test,pred))\n",
        "      prediction_time_performance[ensemble].append(time.perf_counter_ns() - time_classify_start)\n",
        "\n",
        "    elif ensemble == 'p-stacked gen':\n",
        "      time_train_start = time.perf_counter_ns()\n",
        "      sgpp = StackedGeneralisationpp(classifier_list,LogisticRegression())\n",
        "      sgpp.train(X,y)\n",
        "      training_time_performance[ensemble].append(time.perf_counter_ns() - time_train_start)\n",
        "\n",
        "      time_classify_start = time.perf_counter_ns()\n",
        "      pred = sgpp.classify(X_test)\n",
        "      accuracy_performance[ensemble].append(accuracy_score(y_test,pred))\n",
        "      prediction_time_performance[ensemble].append(time.perf_counter_ns() - time_classify_start)\n",
        "\n",
        "    elif ensemble == 'p-MOE':\n",
        "      time_train_start = time.perf_counter_ns()\n",
        "      moepp = MOEpp(classifier_list,LogisticRegression())\n",
        "      moepp.train(X,y)\n",
        "      training_time_performance[ensemble].append(time.perf_counter_ns() - time_train_start)\n",
        "\n",
        "      time_classify_start = time.perf_counter_ns()\n",
        "      pred= moepp.classify(X_test)\n",
        "      accuracy_performance[ensemble].append(accuracy_score(y_test,pred))\n",
        "      prediction_time_performance[ensemble].append(time.perf_counter_ns() - time_classify_start)\n",
        "\n",
        "    elif ensemble == 'MAB borda':\n",
        "      time_train_start = time.perf_counter_ns()\n",
        "      new = Novel_ensemble(classifier_list)\n",
        "      new.train_ensemble_borda(X,y,3)\n",
        "      training_time_performance[ensemble].append(time.perf_counter_ns() - time_train_start)\n",
        "      \n",
        "      time_classify_start = time.perf_counter_ns()\n",
        "      pred= new.predict_ensemble_borda(X_test)\n",
        "      accuracy_performance[ensemble].append(accuracy_score(y_test,pred))\n",
        "      prediction_time_performance[ensemble].append(time.perf_counter_ns() - time_classify_start)\n",
        "\n",
        "\n",
        "    elif ensemble == 'MAB stacked gen':   \n",
        "      time_train_start = time.perf_counter_ns() \n",
        "      new = Novel_ensemble(classifier_list,LogisticRegression())\n",
        "      new.train_ensemble_stacked_generalization(X,y,3)\n",
        "      training_time_performance[ensemble].append(time.perf_counter_ns() - time_train_start)\n",
        "\n",
        "      time_classify_start = time.perf_counter_ns()\n",
        "      pred= new.predict_ensemble_stacked_generalization(X_test)\n",
        "      accuracy_performance[ensemble].append(accuracy_score(y_test,pred))\n",
        "      prediction_time_performance[ensemble].append(time.perf_counter_ns() - time_classify_start)"
      ],
      "metadata": {
        "id": "zeQxBUHXI7ek"
      },
      "execution_count": 38,
      "outputs": []
    },
    {
      "cell_type": "code",
      "source": [
        "total_time_performance ={}\n",
        "for ensemble in training_time_performance:\n",
        "  total_time_performance[ensemble] = []\n",
        "  for i in range(len(training_time_performance[ensemble])):\n",
        "    total_time_performance[ensemble].append(training_time_performance[ensemble][i]+prediction_time_performance[ensemble][i])\n",
        "total_time_performance"
      ],
      "metadata": {
        "colab": {
          "base_uri": "https://localhost:8080/"
        },
        "id": "uLBZJ5jNeBr1",
        "outputId": "9002615e-26c2-4f1f-ecf2-0c48197f3423"
      },
      "execution_count": 39,
      "outputs": [
        {
          "output_type": "execute_result",
          "data": {
            "text/plain": [
              "{'MAB borda': [25718238,\n",
              "  26134920,\n",
              "  26783880,\n",
              "  26469663,\n",
              "  26299413,\n",
              "  28582567,\n",
              "  29341494,\n",
              "  26321430,\n",
              "  25094329,\n",
              "  27516008],\n",
              " 'MAB stacked gen': [245485431,\n",
              "  244526544,\n",
              "  226804542,\n",
              "  224911343,\n",
              "  243027633,\n",
              "  242454024,\n",
              "  219278639,\n",
              "  240603953,\n",
              "  230625569,\n",
              "  237544948],\n",
              " 'MOE': [197719933,\n",
              "  207252587,\n",
              "  214019950,\n",
              "  200727055,\n",
              "  209916081,\n",
              "  202555742,\n",
              "  183827795,\n",
              "  194420674,\n",
              "  213054283,\n",
              "  207234155],\n",
              " 'adaboost': [110789664495,\n",
              "  23728640841,\n",
              "  707390732,\n",
              "  1261434956,\n",
              "  684197944,\n",
              "  3014933095,\n",
              "  1913250563,\n",
              "  17663351380,\n",
              "  7375501165,\n",
              "  1498859595],\n",
              " 'borda': [18040180,\n",
              "  15615172,\n",
              "  15464214,\n",
              "  16257341,\n",
              "  17685207,\n",
              "  15056222,\n",
              "  15609951,\n",
              "  16943284,\n",
              "  18799576,\n",
              "  16909918],\n",
              " 'composite': [23555394,\n",
              "  30083158,\n",
              "  30830698,\n",
              "  24615928,\n",
              "  25066978,\n",
              "  19988589,\n",
              "  27297346,\n",
              "  23102076,\n",
              "  26279493,\n",
              "  22022622],\n",
              " 'learn++': [18164369,\n",
              "  18566391,\n",
              "  18731975,\n",
              "  19684239,\n",
              "  22671950,\n",
              "  18758885,\n",
              "  19406307,\n",
              "  19553103,\n",
              "  19884167,\n",
              "  21794250],\n",
              " 'p-MOE': [251594620,\n",
              "  227632441,\n",
              "  220075777,\n",
              "  250227684,\n",
              "  241800280,\n",
              "  251967932,\n",
              "  223339533,\n",
              "  242659538,\n",
              "  228882750,\n",
              "  258336635],\n",
              " 'p-stacked gen': [198026176,\n",
              "  179496711,\n",
              "  194218646,\n",
              "  196473118,\n",
              "  186036963,\n",
              "  185719323,\n",
              "  183515551,\n",
              "  184746843,\n",
              "  182026496,\n",
              "  190321359],\n",
              " 'stacked gen': [194081366,\n",
              "  191882438,\n",
              "  190510837,\n",
              "  223414164,\n",
              "  201246367,\n",
              "  197971676,\n",
              "  206838485,\n",
              "  197961345,\n",
              "  194511407,\n",
              "  200326140]}"
            ]
          },
          "metadata": {},
          "execution_count": 39
        }
      ]
    },
    {
      "cell_type": "code",
      "source": [
        "import matplotlib.pyplot as plt\n",
        "import statistics\n",
        "from math import sqrt\n",
        "\n",
        "def calculate_confidence_bound (data):\n",
        "  temp = sorted(data.copy())\n",
        "  n = len(temp)\n",
        "  low = temp[int(0.025*(n+1))]\n",
        "  # print('low: ',low)\n",
        "  up = temp[int(0.975*(n+1))-1]\n",
        "  # print('up: ',up)\n",
        "  mean = sum(data)/n\n",
        "  # print('mean: ', mean)\n",
        "  return (low,up),mean\n",
        "  \n",
        "def plot_confidence_interval(x, values, color='#2187bb', horizontal_line_width=0.25):\n",
        "    # mean = statistics.mean(values)\n",
        "    # stdev = statistics.stdev(values)\n",
        "    # confidence_interval = z * stdev / sqrt(len(values))\n",
        "\n",
        "    (bottom,top),mean = calculate_confidence_bound(values)\n",
        "\n",
        "\n",
        "    left = x - horizontal_line_width / 2\n",
        "    # top = mean - confidence_interval\n",
        "    right = x + horizontal_line_width / 2\n",
        "    # bottom = mean + confidence_interval\n",
        "    plt.plot([x, x], [bottom, top], color=color)\n",
        "    plt.plot([left, right], [top, top], color=color)\n",
        "    plt.plot([left, right], [bottom, bottom], color=color)\n",
        "    plt.plot(x, mean, 'o', color='#f44336')\n",
        "    plt.plot()\n",
        "    # print('x: ',x)\n",
        "    # print('left: ',left)\n",
        "    # print('top: ', top)\n",
        "    # print('bottom: ',bottom)\n",
        "    # print('right:',right)\n",
        "    return mean#, confidence_interval\n",
        "\n",
        "\n",
        "# plt.xticks([1, 2, 3, 4], ['FF', 'BF', 'FFD', 'BFD'])\n",
        "# plt.title('Confidence Interval')\n",
        "# # plot_confidence_interval(1, [10, 11, 42, 45, 44])\n",
        "# # plot_confidence_interval(2, [10, 21, 42, 45, 44])\n",
        "# # plot_confidence_interval(3, [20, 2, 4, 45, 44])\n",
        "# # plot_confidence_interval(4, [30, 31, 42, 45, 44])\n",
        "# plt.show()\n",
        "mean_list = []\n",
        "plt.figure(figsize=(12.5,3))\n",
        "for index,ensemble in enumerate(accuracy_performance):\n",
        "  mean_list.append(plot_confidence_interval(index,accuracy_performance[ensemble]))\n",
        "plt.xticks(list(range(len(accuracy_performance.keys()))),accuracy_performance.keys())\n",
        "plt.plot(mean_list,linewidth = '1',color = 'black',linestyle = 'dotted')\n",
        "plt.title('Classification Performance of the Ensembles')\n",
        "plt.show()\n",
        "\n",
        "mean_list = []\n",
        "plt.figure(figsize=(12.5,3))\n",
        "for index,ensemble in enumerate(accuracy_performance):\n",
        "  mean_list.append(plot_confidence_interval(index,training_time_performance[ensemble]))\n",
        "plt.xticks(list(range(len(accuracy_performance.keys()))),accuracy_performance.keys())\n",
        "plt.plot(mean_list,linewidth = '1',color = 'black',linestyle = 'dotted')\n",
        "plt.title('Training Time Performance of the Ensembles')\n",
        "plt.show()\n",
        "\n",
        "mean_list = []\n",
        "plt.figure(figsize=(12.5,3))\n",
        "for index,ensemble in enumerate(accuracy_performance):\n",
        "  mean_list.append(plot_confidence_interval(index,prediction_time_performance[ensemble]))\n",
        "plt.xticks(list(range(len(accuracy_performance.keys()))),accuracy_performance.keys())\n",
        "plt.plot(mean_list,linewidth = '1',color = 'black',linestyle = 'dotted')\n",
        "plt.title('Prediction Time Performance of the Ensembles')\n",
        "plt.show()\n",
        "\n",
        "mean_list = []\n",
        "plt.figure(figsize=(12.5,3))\n",
        "for index,ensemble in enumerate(accuracy_performance):\n",
        "  mean_list.append(plot_confidence_interval(index,total_time_performance[ensemble]))\n",
        "plt.xticks(list(range(len(accuracy_performance.keys()))),accuracy_performance.keys())\n",
        "plt.plot(mean_list,linewidth = '1',color = 'black',linestyle = 'dotted')\n",
        "plt.title('Total Time Performance of the Ensembles')\n",
        "plt.show()"
      ],
      "metadata": {
        "colab": {
          "base_uri": "https://localhost:8080/",
          "height": 857
        },
        "id": "Bjk5wf2sQ2Z_",
        "outputId": "03f55088-0f99-41bf-cea5-f24a881c25c0"
      },
      "execution_count": 40,
      "outputs": [
        {
          "output_type": "display_data",
          "data": {
            "text/plain": [
              "<Figure size 900x216 with 1 Axes>"
            ],
            "image/png": "[encoded data removed]"
          },
          "metadata": {
            "needs_background": "light"
          }
        },
        {
          "output_type": "display_data",
          "data": {
            "text/plain": [
              "<Figure size 900x216 with 1 Axes>"
            ],
            "image/png": "[encoded data removed]"
          },
          "metadata": {
            "needs_background": "light"
          }
        },
        {
          "output_type": "display_data",
          "data": {
            "text/plain": [
              "<Figure size 900x216 with 1 Axes>"
            ],
            "image/png": "[encoded data removed]"
          },
          "metadata": {
            "needs_background": "light"
          }
        },
        {
          "output_type": "display_data",
          "data": {
            "text/plain": [
              "<Figure size 900x216 with 1 Axes>"
            ],
            "image/png": "[encoded data removed]"
          },
          "metadata": {
            "needs_background": "light"
          }
        }
      ]
    },
    {
      "cell_type": "code",
      "source": [
        "for ensemble in training_time_performance:\n",
        "  print(ensemble,': ',sum(training_time_performance[ensemble])/(1000000*len(training_time_performance[ensemble])))"
      ],
      "metadata": {
        "colab": {
          "base_uri": "https://localhost:8080/"
        },
        "id": "vi9cJP-kVI4x",
        "outputId": "79452cdb-8cf8-4a17-8fe4-20b6181f3e63"
      },
      "execution_count": 43,
      "outputs": [
        {
          "output_type": "stream",
          "name": "stdout",
          "text": [
            "composite :  14.7559927\n",
            "adaboost :  16860.4500457\n",
            "borda :  11.7607666\n",
            "learn++ :  12.882457\n",
            "stacked gen :  191.9442268\n",
            "MOE :  195.7281858\n",
            "p-stacked gen :  181.1066083\n",
            "p-MOE :  232.3849856\n",
            "MAB borda :  20.1411335\n",
            "MAB stacked gen :  226.0258385\n"
          ]
        }
      ]
    },
    {
      "cell_type": "code",
      "source": [
        "for ensemble in prediction_time_performance:\n",
        "  print(ensemble,': ',sum(prediction_time_performance[ensemble])/(1000000*len(prediction_time_performance[ensemble])))"
      ],
      "metadata": {
        "colab": {
          "base_uri": "https://localhost:8080/"
        },
        "id": "AqOkh5ISPawA",
        "outputId": "b6288a01-09e2-467b-8d18-43f7636fb6c3"
      },
      "execution_count": 46,
      "outputs": [
        {
          "output_type": "stream",
          "name": "stdout",
          "text": [
            "composite :  10.5282355\n",
            "adaboost :  3.2724309\n",
            "borda :  4.8773399\n",
            "learn++ :  6.8391066\n",
            "stacked gen :  7.9301957\n",
            "MOE :  7.3446397\n",
            "p-stacked gen :  6.9515103\n",
            "p-MOE :  7.2667334\n",
            "MAB borda :  6.6850607\n",
            "MAB stacked gen :  9.5004241\n"
          ]
        }
      ]
    },
    {
      "cell_type": "code",
      "source": [
        "for ensemble in total_time_performance:\n",
        "  print(ensemble,': ',sum(total_time_performance[ensemble])/(1000000*len(total_time_performance[ensemble])))"
      ],
      "metadata": {
        "colab": {
          "base_uri": "https://localhost:8080/"
        },
        "id": "VEviDmpbPbmn",
        "outputId": "a3447557-4983-4d96-bcdc-2219174073bc"
      },
      "execution_count": 47,
      "outputs": [
        {
          "output_type": "stream",
          "name": "stdout",
          "text": [
            "composite :  25.2842282\n",
            "adaboost :  16863.7224766\n",
            "borda :  16.6381065\n",
            "learn++ :  19.7215636\n",
            "stacked gen :  199.8744225\n",
            "MOE :  203.0728255\n",
            "p-stacked gen :  188.0581186\n",
            "p-MOE :  239.651719\n",
            "MAB borda :  26.8261942\n",
            "MAB stacked gen :  235.5262626\n"
          ]
        }
      ]
    }
  ]
}